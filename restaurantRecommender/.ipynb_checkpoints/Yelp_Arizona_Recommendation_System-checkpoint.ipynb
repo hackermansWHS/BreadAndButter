{
 "cells": [
  {
   "cell_type": "markdown",
   "metadata": {},
   "source": [
    "#Epsilon Hacks"
   ]
  },
  {
   "cell_type": "code",
   "execution_count": 53,
   "metadata": {
    "ExecuteTime": {
     "end_time": "2019-11-29T02:12:46.492105Z",
     "start_time": "2019-11-29T02:12:35.343370Z"
    }
   },
   "outputs": [],
   "source": [
    "import numpy as np\n",
    "import pandas as pd\n",
    "import matplotlib.pyplot as plt\n",
    "import seaborn as sns\n",
    "from sklearn.model_selection import train_test_split\n",
    "from sklearn.feature_extraction.text import TfidfVectorizer\n",
    "from nltk.corpus import stopwords \n",
    "from nltk.tokenize import WordPunctTokenizer"
   ]
  },
  {
   "cell_type": "code",
   "execution_count": 54,
   "metadata": {
    "ExecuteTime": {
     "end_time": "2019-11-29T02:12:46.499269Z",
     "start_time": "2019-11-29T02:12:46.495107Z"
    }
   },
   "outputs": [],
   "source": [
    "import warnings\n",
    "warnings.filterwarnings('ignore')"
   ]
  },
  {
   "cell_type": "markdown",
   "metadata": {},
   "source": [
    "## Import Data"
   ]
  },
  {
   "cell_type": "code",
   "execution_count": 55,
   "metadata": {},
   "outputs": [],
   "source": [
    "df = pd.read_csv('yelp_review_arizona.csv')"
   ]
  },
  {
   "cell_type": "code",
   "execution_count": 56,
   "metadata": {
    "ExecuteTime": {
     "end_time": "2019-11-29T02:12:56.741590Z",
     "start_time": "2019-11-29T02:12:56.729588Z"
    }
   },
   "outputs": [],
   "source": [
    "#df = yelp[['review_id', 'user_id', 'business_id', 'text', 'stars', 'date']]"
   ]
  },
  {
   "cell_type": "code",
   "execution_count": 57,
   "metadata": {
    "ExecuteTime": {
     "end_time": "2019-11-29T02:12:59.416141Z",
     "start_time": "2019-11-29T02:12:57.509473Z"
    }
   },
   "outputs": [],
   "source": [
    "df_business = pd.read_csv('yelp_business.csv')"
   ]
  },
  {
   "cell_type": "code",
   "execution_count": 58,
   "metadata": {
    "ExecuteTime": {
     "end_time": "2019-11-29T02:12:59.438128Z",
     "start_time": "2019-11-29T02:12:59.418125Z"
    }
   },
   "outputs": [
    {
     "data": {
      "text/plain": [
       "review_id      0\n",
       "user_id        0\n",
       "business_id    0\n",
       "text           0\n",
       "stars          0\n",
       "date           0\n",
       "dtype: int64"
      ]
     },
     "execution_count": 58,
     "metadata": {},
     "output_type": "execute_result"
    }
   ],
   "source": [
    "#Check Null values in Dataframe\n",
    "df.isnull().sum()"
   ]
  },
  {
   "cell_type": "code",
   "execution_count": 59,
   "metadata": {
    "ExecuteTime": {
     "end_time": "2019-11-29T02:12:59.461141Z",
     "start_time": "2019-11-29T02:12:59.440128Z"
    }
   },
   "outputs": [
    {
     "data": {
      "text/html": [
       "<div>\n",
       "<style scoped>\n",
       "    .dataframe tbody tr th:only-of-type {\n",
       "        vertical-align: middle;\n",
       "    }\n",
       "\n",
       "    .dataframe tbody tr th {\n",
       "        vertical-align: top;\n",
       "    }\n",
       "\n",
       "    .dataframe thead th {\n",
       "        text-align: right;\n",
       "    }\n",
       "</style>\n",
       "<table border=\"1\" class=\"dataframe\">\n",
       "  <thead>\n",
       "    <tr style=\"text-align: right;\">\n",
       "      <th></th>\n",
       "      <th>review_id</th>\n",
       "      <th>user_id</th>\n",
       "      <th>business_id</th>\n",
       "      <th>text</th>\n",
       "      <th>stars</th>\n",
       "      <th>date</th>\n",
       "    </tr>\n",
       "  </thead>\n",
       "  <tbody>\n",
       "    <tr>\n",
       "      <th>0</th>\n",
       "      <td>V93SYj2OLh5m9Cquzf-7kg</td>\n",
       "      <td>ZwVz20be-hOZnyAbevyMyQ</td>\n",
       "      <td>2c9Vptks_vowLgVUMnCgjw</td>\n",
       "      <td>Came here while in town for a country concert....</td>\n",
       "      <td>4</td>\n",
       "      <td>2013-09-04 1:29</td>\n",
       "    </tr>\n",
       "    <tr>\n",
       "      <th>1</th>\n",
       "      <td>vNTFadc6T9HeH3Qa78dc_Q</td>\n",
       "      <td>91TB-gzcNyxFh46TL0pmnQ</td>\n",
       "      <td>6nKR80xEGHYf2UxAe_Cu_g</td>\n",
       "      <td>Best barbecue this side of the Mississippi!!!!...</td>\n",
       "      <td>5</td>\n",
       "      <td>2015-12-05 2:50</td>\n",
       "    </tr>\n",
       "    <tr>\n",
       "      <th>2</th>\n",
       "      <td>SXRFBCt5eXCBF7TlI7UG6Q</td>\n",
       "      <td>Y_QBiZpATJoz8hKUfYF66A</td>\n",
       "      <td>fbQaKW0Lte0JQ_opbnjdKg</td>\n",
       "      <td>Absolutely amazing. Think Chipotle for enchila...</td>\n",
       "      <td>5</td>\n",
       "      <td>2014-04-01 1:56</td>\n",
       "    </tr>\n",
       "    <tr>\n",
       "      <th>3</th>\n",
       "      <td>CqMNjtG0hNZGhDw4RDE-zw</td>\n",
       "      <td>_Jg-IA0M-GSjBlGu-wmejg</td>\n",
       "      <td>r8764MtYyt8JhxMvrfM_xQ</td>\n",
       "      <td>I was really disappointed with my most recent ...</td>\n",
       "      <td>2</td>\n",
       "      <td>2014-10-11 3:53</td>\n",
       "    </tr>\n",
       "    <tr>\n",
       "      <th>4</th>\n",
       "      <td>5hZLouGEW4wm6BTJ5aNUNw</td>\n",
       "      <td>1CqkFliipv_X15WYn5aPfg</td>\n",
       "      <td>QS3QxI7u5PRdtbGgI0-UsA</td>\n",
       "      <td>I grade sushi restaurants on 3 factors:\\n- Qua...</td>\n",
       "      <td>4</td>\n",
       "      <td>2015-03-04 19:36</td>\n",
       "    </tr>\n",
       "  </tbody>\n",
       "</table>\n",
       "</div>"
      ],
      "text/plain": [
       "                review_id                 user_id             business_id  \\\n",
       "0  V93SYj2OLh5m9Cquzf-7kg  ZwVz20be-hOZnyAbevyMyQ  2c9Vptks_vowLgVUMnCgjw   \n",
       "1  vNTFadc6T9HeH3Qa78dc_Q  91TB-gzcNyxFh46TL0pmnQ  6nKR80xEGHYf2UxAe_Cu_g   \n",
       "2  SXRFBCt5eXCBF7TlI7UG6Q  Y_QBiZpATJoz8hKUfYF66A  fbQaKW0Lte0JQ_opbnjdKg   \n",
       "3  CqMNjtG0hNZGhDw4RDE-zw  _Jg-IA0M-GSjBlGu-wmejg  r8764MtYyt8JhxMvrfM_xQ   \n",
       "4  5hZLouGEW4wm6BTJ5aNUNw  1CqkFliipv_X15WYn5aPfg  QS3QxI7u5PRdtbGgI0-UsA   \n",
       "\n",
       "                                                text  stars              date  \n",
       "0  Came here while in town for a country concert....      4   2013-09-04 1:29  \n",
       "1  Best barbecue this side of the Mississippi!!!!...      5   2015-12-05 2:50  \n",
       "2  Absolutely amazing. Think Chipotle for enchila...      5   2014-04-01 1:56  \n",
       "3  I was really disappointed with my most recent ...      2   2014-10-11 3:53  \n",
       "4  I grade sushi restaurants on 3 factors:\\n- Qua...      4  2015-03-04 19:36  "
      ]
     },
     "execution_count": 59,
     "metadata": {},
     "output_type": "execute_result"
    }
   ],
   "source": [
    "df.head()"
   ]
  },
  {
   "cell_type": "code",
   "execution_count": 60,
   "metadata": {
    "ExecuteTime": {
     "end_time": "2019-11-29T02:12:59.525135Z",
     "start_time": "2019-11-29T02:12:59.519133Z"
    }
   },
   "outputs": [
    {
     "data": {
      "text/plain": [
       "(2019, 6)"
      ]
     },
     "execution_count": 60,
     "metadata": {},
     "output_type": "execute_result"
    }
   ],
   "source": [
    "df.shape"
   ]
  },
  {
   "cell_type": "markdown",
   "metadata": {},
   "source": [
    "### Select only stars and text"
   ]
  },
  {
   "cell_type": "code",
   "execution_count": 61,
   "metadata": {
    "ExecuteTime": {
     "end_time": "2019-11-29T02:13:02.057978Z",
     "start_time": "2019-11-29T02:13:02.049980Z"
    }
   },
   "outputs": [],
   "source": [
    "#Select only stars and text\n",
    "yelp_data = df[['business_id', 'user_id', 'stars', 'text']]"
   ]
  },
  {
   "cell_type": "code",
   "execution_count": 62,
   "metadata": {},
   "outputs": [
    {
     "name": "stderr",
     "output_type": "stream",
     "text": [
      "[nltk_data] Downloading package stopwords to\n",
      "[nltk_data]     C:\\Users\\mkach\\AppData\\Roaming\\nltk_data...\n",
      "[nltk_data]   Package stopwords is already up-to-date!\n"
     ]
    }
   ],
   "source": [
    "import string\n",
    "import nltk\n",
    "nltk.download('stopwords')\n",
    "from nltk.corpus import stopwords"
   ]
  },
  {
   "cell_type": "code",
   "execution_count": 63,
   "metadata": {
    "ExecuteTime": {
     "end_time": "2019-11-29T02:13:03.488767Z",
     "start_time": "2019-11-29T02:13:03.466755Z"
    }
   },
   "outputs": [],
   "source": [
    "stop = []\n",
    "for word in stopwords.words('english'):\n",
    "    s = [char for char in word if char not in string.punctuation]\n",
    "    stop.append(''.join(s))"
   ]
  },
  {
   "cell_type": "code",
   "execution_count": 64,
   "metadata": {
    "ExecuteTime": {
     "end_time": "2019-11-29T02:13:03.945058Z",
     "start_time": "2019-11-29T02:13:03.939059Z"
    }
   },
   "outputs": [],
   "source": [
    "def text_process(mess):\n",
    "    \"\"\"\n",
    "    Takes in a string of text, then performs the following:\n",
    "    1. Remove all punctuation\n",
    "    2. Remove all stopwords\n",
    "    3. Returns a list of the cleaned text\n",
    "    \"\"\"\n",
    "    # Check characters to see if they are in punctuation\n",
    "    nopunc = [char for char in mess if char not in string.punctuation]\n",
    "\n",
    "    # Join the characters again to form the string.\n",
    "    nopunc = ''.join(nopunc)\n",
    "    \n",
    "    # Now just remove any stopwords\n",
    "    return \" \".join([word for word in nopunc.split() if word.lower() not in stop])"
   ]
  },
  {
   "cell_type": "markdown",
   "metadata": {},
   "source": [
    "### Clean Text"
   ]
  },
  {
   "cell_type": "code",
   "execution_count": 65,
   "metadata": {
    "ExecuteTime": {
     "end_time": "2019-11-19T14:51:39.696639Z",
     "start_time": "2019-11-19T14:51:29.961144Z"
    }
   },
   "outputs": [],
   "source": [
    "yelp_data['text'] = yelp_data['text'].apply(text_process)"
   ]
  },
  {
   "cell_type": "code",
   "execution_count": 66,
   "metadata": {
    "ExecuteTime": {
     "end_time": "2019-11-19T14:51:39.710462Z",
     "start_time": "2019-11-19T14:51:39.696639Z"
    }
   },
   "outputs": [],
   "source": [
    "#Split train test for testing the model later\n",
    "vld_size=0.15\n",
    "X_train, X_valid, y_train, y_valid = train_test_split(yelp_data['text'], df['business_id'], test_size = vld_size) "
   ]
  },
  {
   "cell_type": "markdown",
   "metadata": {},
   "source": [
    "### Create two tables of user,text and business,text"
   ]
  },
  {
   "cell_type": "code",
   "execution_count": 67,
   "metadata": {
    "ExecuteTime": {
     "end_time": "2019-11-19T14:51:39.728464Z",
     "start_time": "2019-11-19T14:51:39.713465Z"
    }
   },
   "outputs": [],
   "source": [
    "userid_df = yelp_data[['user_id','text']]\n",
    "business_df = yelp_data[['business_id', 'text']]"
   ]
  },
  {
   "cell_type": "code",
   "execution_count": 68,
   "metadata": {
    "ExecuteTime": {
     "end_time": "2019-11-19T14:51:39.747465Z",
     "start_time": "2019-11-19T14:51:39.733466Z"
    }
   },
   "outputs": [
    {
     "data": {
      "text/html": [
       "<div>\n",
       "<style scoped>\n",
       "    .dataframe tbody tr th:only-of-type {\n",
       "        vertical-align: middle;\n",
       "    }\n",
       "\n",
       "    .dataframe tbody tr th {\n",
       "        vertical-align: top;\n",
       "    }\n",
       "\n",
       "    .dataframe thead th {\n",
       "        text-align: right;\n",
       "    }\n",
       "</style>\n",
       "<table border=\"1\" class=\"dataframe\">\n",
       "  <thead>\n",
       "    <tr style=\"text-align: right;\">\n",
       "      <th></th>\n",
       "      <th>user_id</th>\n",
       "      <th>text</th>\n",
       "    </tr>\n",
       "  </thead>\n",
       "  <tbody>\n",
       "    <tr>\n",
       "      <th>0</th>\n",
       "      <td>ZwVz20be-hOZnyAbevyMyQ</td>\n",
       "      <td>Came town country concert better way start day...</td>\n",
       "    </tr>\n",
       "    <tr>\n",
       "      <th>1</th>\n",
       "      <td>91TB-gzcNyxFh46TL0pmnQ</td>\n",
       "      <td>Best barbecue side Mississippi Come car washed...</td>\n",
       "    </tr>\n",
       "    <tr>\n",
       "      <th>2</th>\n",
       "      <td>Y_QBiZpATJoz8hKUfYF66A</td>\n",
       "      <td>Absolutely amazing Think Chipotle enchiladas N...</td>\n",
       "    </tr>\n",
       "    <tr>\n",
       "      <th>3</th>\n",
       "      <td>_Jg-IA0M-GSjBlGu-wmejg</td>\n",
       "      <td>really disappointed recent visit Vintage 95 ma...</td>\n",
       "    </tr>\n",
       "    <tr>\n",
       "      <th>4</th>\n",
       "      <td>1CqkFliipv_X15WYn5aPfg</td>\n",
       "      <td>grade sushi restaurants 3 factors Quality Exce...</td>\n",
       "    </tr>\n",
       "  </tbody>\n",
       "</table>\n",
       "</div>"
      ],
      "text/plain": [
       "                  user_id                                               text\n",
       "0  ZwVz20be-hOZnyAbevyMyQ  Came town country concert better way start day...\n",
       "1  91TB-gzcNyxFh46TL0pmnQ  Best barbecue side Mississippi Come car washed...\n",
       "2  Y_QBiZpATJoz8hKUfYF66A  Absolutely amazing Think Chipotle enchiladas N...\n",
       "3  _Jg-IA0M-GSjBlGu-wmejg  really disappointed recent visit Vintage 95 ma...\n",
       "4  1CqkFliipv_X15WYn5aPfg  grade sushi restaurants 3 factors Quality Exce..."
      ]
     },
     "execution_count": 68,
     "metadata": {},
     "output_type": "execute_result"
    }
   ],
   "source": [
    "userid_df.head()"
   ]
  },
  {
   "cell_type": "code",
   "execution_count": 69,
   "metadata": {
    "ExecuteTime": {
     "end_time": "2019-11-19T14:51:39.761466Z",
     "start_time": "2019-11-19T14:51:39.750466Z"
    }
   },
   "outputs": [
    {
     "data": {
      "text/plain": [
       "0       Came town country concert better way start day...\n",
       "1098    Amazing Im golfer ended loving went family lov...\n",
       "Name: text, dtype: object"
      ]
     },
     "execution_count": 69,
     "metadata": {},
     "output_type": "execute_result"
    }
   ],
   "source": [
    "userid_df[userid_df['user_id']=='ZwVz20be-hOZnyAbevyMyQ']['text']"
   ]
  },
  {
   "cell_type": "code",
   "execution_count": 70,
   "metadata": {
    "ExecuteTime": {
     "end_time": "2019-11-19T14:51:39.773469Z",
     "start_time": "2019-11-19T14:51:39.764466Z"
    }
   },
   "outputs": [
    {
     "data": {
      "text/html": [
       "<div>\n",
       "<style scoped>\n",
       "    .dataframe tbody tr th:only-of-type {\n",
       "        vertical-align: middle;\n",
       "    }\n",
       "\n",
       "    .dataframe tbody tr th {\n",
       "        vertical-align: top;\n",
       "    }\n",
       "\n",
       "    .dataframe thead th {\n",
       "        text-align: right;\n",
       "    }\n",
       "</style>\n",
       "<table border=\"1\" class=\"dataframe\">\n",
       "  <thead>\n",
       "    <tr style=\"text-align: right;\">\n",
       "      <th></th>\n",
       "      <th>business_id</th>\n",
       "      <th>text</th>\n",
       "    </tr>\n",
       "  </thead>\n",
       "  <tbody>\n",
       "    <tr>\n",
       "      <th>0</th>\n",
       "      <td>2c9Vptks_vowLgVUMnCgjw</td>\n",
       "      <td>Came town country concert better way start day...</td>\n",
       "    </tr>\n",
       "    <tr>\n",
       "      <th>1</th>\n",
       "      <td>6nKR80xEGHYf2UxAe_Cu_g</td>\n",
       "      <td>Best barbecue side Mississippi Come car washed...</td>\n",
       "    </tr>\n",
       "    <tr>\n",
       "      <th>2</th>\n",
       "      <td>fbQaKW0Lte0JQ_opbnjdKg</td>\n",
       "      <td>Absolutely amazing Think Chipotle enchiladas N...</td>\n",
       "    </tr>\n",
       "    <tr>\n",
       "      <th>3</th>\n",
       "      <td>r8764MtYyt8JhxMvrfM_xQ</td>\n",
       "      <td>really disappointed recent visit Vintage 95 ma...</td>\n",
       "    </tr>\n",
       "    <tr>\n",
       "      <th>4</th>\n",
       "      <td>QS3QxI7u5PRdtbGgI0-UsA</td>\n",
       "      <td>grade sushi restaurants 3 factors Quality Exce...</td>\n",
       "    </tr>\n",
       "  </tbody>\n",
       "</table>\n",
       "</div>"
      ],
      "text/plain": [
       "              business_id                                               text\n",
       "0  2c9Vptks_vowLgVUMnCgjw  Came town country concert better way start day...\n",
       "1  6nKR80xEGHYf2UxAe_Cu_g  Best barbecue side Mississippi Come car washed...\n",
       "2  fbQaKW0Lte0JQ_opbnjdKg  Absolutely amazing Think Chipotle enchiladas N...\n",
       "3  r8764MtYyt8JhxMvrfM_xQ  really disappointed recent visit Vintage 95 ma...\n",
       "4  QS3QxI7u5PRdtbGgI0-UsA  grade sushi restaurants 3 factors Quality Exce..."
      ]
     },
     "execution_count": 70,
     "metadata": {},
     "output_type": "execute_result"
    }
   ],
   "source": [
    "business_df.head()"
   ]
  },
  {
   "cell_type": "markdown",
   "metadata": {},
   "source": [
    "### Join the text with for each user_id and business_id"
   ]
  },
  {
   "cell_type": "code",
   "execution_count": 71,
   "metadata": {
    "ExecuteTime": {
     "end_time": "2019-11-19T14:51:40.054497Z",
     "start_time": "2019-11-19T14:51:39.776467Z"
    }
   },
   "outputs": [],
   "source": [
    "userid_df = userid_df.groupby('user_id').agg({'text': ' '.join})\n",
    "business_df = business_df.groupby('business_id').agg({'text': ' '.join})"
   ]
  },
  {
   "cell_type": "code",
   "execution_count": 72,
   "metadata": {
    "ExecuteTime": {
     "end_time": "2019-11-19T14:51:40.067489Z",
     "start_time": "2019-11-19T14:51:40.056487Z"
    }
   },
   "outputs": [
    {
     "data": {
      "text/html": [
       "<div>\n",
       "<style scoped>\n",
       "    .dataframe tbody tr th:only-of-type {\n",
       "        vertical-align: middle;\n",
       "    }\n",
       "\n",
       "    .dataframe tbody tr th {\n",
       "        vertical-align: top;\n",
       "    }\n",
       "\n",
       "    .dataframe thead th {\n",
       "        text-align: right;\n",
       "    }\n",
       "</style>\n",
       "<table border=\"1\" class=\"dataframe\">\n",
       "  <thead>\n",
       "    <tr style=\"text-align: right;\">\n",
       "      <th></th>\n",
       "      <th>text</th>\n",
       "    </tr>\n",
       "    <tr>\n",
       "      <th>user_id</th>\n",
       "      <th></th>\n",
       "    </tr>\n",
       "  </thead>\n",
       "  <tbody>\n",
       "    <tr>\n",
       "      <th>#NAME?</th>\n",
       "      <td>Visited Chino couple nights ago couple years p...</td>\n",
       "    </tr>\n",
       "    <tr>\n",
       "      <th>-0g4b9oK3iptky6YY3vDyQ</th>\n",
       "      <td>Love place Good coffee breakfast lunch options...</td>\n",
       "    </tr>\n",
       "    <tr>\n",
       "      <th>-318sKiQDgbjLzF4FCU1XA</th>\n",
       "      <td>service wonderful pizza appetizer great wine h...</td>\n",
       "    </tr>\n",
       "    <tr>\n",
       "      <th>-3UR6uwjT2kRjbQv1cxgxA</th>\n",
       "      <td>pretty average Viet restaurant would probably ...</td>\n",
       "    </tr>\n",
       "    <tr>\n",
       "      <th>-5IhsZXkCka8u8LVksXKLw</th>\n",
       "      <td>far 7 checkins surprised find Ive made note go...</td>\n",
       "    </tr>\n",
       "  </tbody>\n",
       "</table>\n",
       "</div>"
      ],
      "text/plain": [
       "                                                                     text\n",
       "user_id                                                                  \n",
       "#NAME?                  Visited Chino couple nights ago couple years p...\n",
       "-0g4b9oK3iptky6YY3vDyQ  Love place Good coffee breakfast lunch options...\n",
       "-318sKiQDgbjLzF4FCU1XA  service wonderful pizza appetizer great wine h...\n",
       "-3UR6uwjT2kRjbQv1cxgxA  pretty average Viet restaurant would probably ...\n",
       "-5IhsZXkCka8u8LVksXKLw  far 7 checkins surprised find Ive made note go..."
      ]
     },
     "execution_count": 72,
     "metadata": {},
     "output_type": "execute_result"
    }
   ],
   "source": [
    "userid_df.head()"
   ]
  },
  {
   "cell_type": "code",
   "execution_count": 73,
   "metadata": {
    "ExecuteTime": {
     "end_time": "2019-11-19T14:51:40.080490Z",
     "start_time": "2019-11-19T14:51:40.071492Z"
    }
   },
   "outputs": [
    {
     "data": {
      "text/plain": [
       "'Came town country concert better way start day Everything great service amazing time walked door sat table surprise beer whiskey tap table pay ounce screen show drank food great whiskey burger favorite country fans must Scottsdale Amazing Im golfer ended loving went family loves golf planned staying hour since golf 6 hours later left far drive place right food amazing expect good brisket tacos chorizo sliders favorite Good quality food many unique items highly recommend place people ages teens loved bays nice roomy 7 us bay 10 people must try back soon'"
      ]
     },
     "execution_count": 73,
     "metadata": {},
     "output_type": "execute_result"
    }
   ],
   "source": [
    "userid_df.loc['ZwVz20be-hOZnyAbevyMyQ']['text']"
   ]
  },
  {
   "cell_type": "markdown",
   "metadata": {},
   "source": [
    "## User Tfidf Vectorizer with 5000 Features (represent 88% of all words)"
   ]
  },
  {
   "cell_type": "code",
   "execution_count": 74,
   "metadata": {
    "ExecuteTime": {
     "end_time": "2019-11-19T14:51:40.088504Z",
     "start_time": "2019-11-19T14:51:40.083490Z"
    }
   },
   "outputs": [],
   "source": [
    "from sklearn.feature_extraction.text import TfidfVectorizer"
   ]
  },
  {
   "cell_type": "code",
   "execution_count": 75,
   "metadata": {
    "ExecuteTime": {
     "end_time": "2019-11-19T14:51:42.365931Z",
     "start_time": "2019-11-19T14:51:40.091501Z"
    }
   },
   "outputs": [
    {
     "data": {
      "text/plain": [
       "(1744, 5000)"
      ]
     },
     "execution_count": 75,
     "metadata": {},
     "output_type": "execute_result"
    }
   ],
   "source": [
    "#userid vectorizer\n",
    "userid_vectorizer = TfidfVectorizer(tokenizer = WordPunctTokenizer().tokenize, max_features=5000)\n",
    "userid_vectors = userid_vectorizer.fit_transform(userid_df['text'])\n",
    "userid_vectors.shape"
   ]
  },
  {
   "cell_type": "code",
   "execution_count": 76,
   "metadata": {
    "ExecuteTime": {
     "end_time": "2019-11-19T14:51:42.376937Z",
     "start_time": "2019-11-19T14:51:42.369928Z"
    }
   },
   "outputs": [
    {
     "data": {
      "text/plain": [
       "<1744x5000 sparse matrix of type '<class 'numpy.float64'>'\n",
       "\twith 96220 stored elements in Compressed Sparse Row format>"
      ]
     },
     "execution_count": 76,
     "metadata": {},
     "output_type": "execute_result"
    }
   ],
   "source": [
    "userid_vectors"
   ]
  },
  {
   "cell_type": "code",
   "execution_count": 77,
   "metadata": {
    "ExecuteTime": {
     "end_time": "2019-11-19T14:51:44.697908Z",
     "start_time": "2019-11-19T14:51:42.379930Z"
    }
   },
   "outputs": [
    {
     "data": {
      "text/plain": [
       "(127, 5000)"
      ]
     },
     "execution_count": 77,
     "metadata": {},
     "output_type": "execute_result"
    }
   ],
   "source": [
    "#Business id vectorizer\n",
    "businessid_vectorizer = TfidfVectorizer(tokenizer = WordPunctTokenizer().tokenize, max_features=5000)\n",
    "businessid_vectors = businessid_vectorizer.fit_transform(business_df['text'])\n",
    "businessid_vectors.shape"
   ]
  },
  {
   "cell_type": "markdown",
   "metadata": {},
   "source": [
    "# Matrix Factorization"
   ]
  },
  {
   "cell_type": "code",
   "execution_count": 78,
   "metadata": {
    "ExecuteTime": {
     "end_time": "2019-11-19T14:51:48.106359Z",
     "start_time": "2019-11-19T14:51:47.698452Z"
    }
   },
   "outputs": [
    {
     "data": {
      "text/plain": [
       "(1744, 127)"
      ]
     },
     "execution_count": 78,
     "metadata": {},
     "output_type": "execute_result"
    }
   ],
   "source": [
    "userid_rating_matrix = pd.pivot_table(yelp_data, values='stars', index=['user_id'], columns=['business_id'])\n",
    "userid_rating_matrix.shape"
   ]
  },
  {
   "cell_type": "code",
   "execution_count": 79,
   "metadata": {
    "ExecuteTime": {
     "end_time": "2019-11-19T14:51:48.142377Z",
     "start_time": "2019-11-19T14:51:48.109381Z"
    }
   },
   "outputs": [
    {
     "data": {
      "text/html": [
       "<div>\n",
       "<style scoped>\n",
       "    .dataframe tbody tr th:only-of-type {\n",
       "        vertical-align: middle;\n",
       "    }\n",
       "\n",
       "    .dataframe tbody tr th {\n",
       "        vertical-align: top;\n",
       "    }\n",
       "\n",
       "    .dataframe thead th {\n",
       "        text-align: right;\n",
       "    }\n",
       "</style>\n",
       "<table border=\"1\" class=\"dataframe\">\n",
       "  <thead>\n",
       "    <tr style=\"text-align: right;\">\n",
       "      <th>business_id</th>\n",
       "      <th>#NAME?</th>\n",
       "      <th>-4TMQnQJW1yd6NqGRDvAeA</th>\n",
       "      <th>0PMKMyfX1j7Nc4esk1RaMg</th>\n",
       "      <th>0xyqLvtr0Zbr4G-gML-QmQ</th>\n",
       "      <th>1HD5iUUfVJDbfEBIn9yVhw</th>\n",
       "      <th>1QJFpZxLbHbXSKohWp9uIA</th>\n",
       "      <th>1qwkbN3wu3AGDxMTXVz2gA</th>\n",
       "      <th>24Td_CQH1bonWKff1rt2vg</th>\n",
       "      <th>2DUdvdQE8FOxCHHp59HHzw</th>\n",
       "      <th>2FfZUyA82YhQCjWNiqDCzQ</th>\n",
       "      <th>...</th>\n",
       "      <th>vyDW7_CHhDUJshMqaSjj0g</th>\n",
       "      <th>wHq1efQVz17338k_aUOX3w</th>\n",
       "      <th>wJY74R0zAgjxvBf-d4gm9g</th>\n",
       "      <th>wMN68wTTlu8hADAF3FkKTw</th>\n",
       "      <th>wUKzaS1MHg94RGM6z8u9mw</th>\n",
       "      <th>wopyolJM2hOAt3dPRmahNA</th>\n",
       "      <th>xS5HGqgk0KY2jFWU-l_nrA</th>\n",
       "      <th>yAXWKWRTs4wNy-zrJgoeXQ</th>\n",
       "      <th>yNPh5SO-7wr8HPpVCDPbXQ</th>\n",
       "      <th>zidkKI_N1OPxsiddTOQH_Q</th>\n",
       "    </tr>\n",
       "    <tr>\n",
       "      <th>user_id</th>\n",
       "      <th></th>\n",
       "      <th></th>\n",
       "      <th></th>\n",
       "      <th></th>\n",
       "      <th></th>\n",
       "      <th></th>\n",
       "      <th></th>\n",
       "      <th></th>\n",
       "      <th></th>\n",
       "      <th></th>\n",
       "      <th></th>\n",
       "      <th></th>\n",
       "      <th></th>\n",
       "      <th></th>\n",
       "      <th></th>\n",
       "      <th></th>\n",
       "      <th></th>\n",
       "      <th></th>\n",
       "      <th></th>\n",
       "      <th></th>\n",
       "      <th></th>\n",
       "    </tr>\n",
       "  </thead>\n",
       "  <tbody>\n",
       "    <tr>\n",
       "      <th>#NAME?</th>\n",
       "      <td>5.0</td>\n",
       "      <td>NaN</td>\n",
       "      <td>NaN</td>\n",
       "      <td>NaN</td>\n",
       "      <td>NaN</td>\n",
       "      <td>NaN</td>\n",
       "      <td>NaN</td>\n",
       "      <td>NaN</td>\n",
       "      <td>NaN</td>\n",
       "      <td>NaN</td>\n",
       "      <td>...</td>\n",
       "      <td>NaN</td>\n",
       "      <td>NaN</td>\n",
       "      <td>NaN</td>\n",
       "      <td>NaN</td>\n",
       "      <td>NaN</td>\n",
       "      <td>3.0</td>\n",
       "      <td>NaN</td>\n",
       "      <td>NaN</td>\n",
       "      <td>5.0</td>\n",
       "      <td>4.0</td>\n",
       "    </tr>\n",
       "    <tr>\n",
       "      <th>-0g4b9oK3iptky6YY3vDyQ</th>\n",
       "      <td>NaN</td>\n",
       "      <td>NaN</td>\n",
       "      <td>NaN</td>\n",
       "      <td>NaN</td>\n",
       "      <td>NaN</td>\n",
       "      <td>NaN</td>\n",
       "      <td>NaN</td>\n",
       "      <td>NaN</td>\n",
       "      <td>NaN</td>\n",
       "      <td>NaN</td>\n",
       "      <td>...</td>\n",
       "      <td>NaN</td>\n",
       "      <td>NaN</td>\n",
       "      <td>NaN</td>\n",
       "      <td>NaN</td>\n",
       "      <td>NaN</td>\n",
       "      <td>NaN</td>\n",
       "      <td>NaN</td>\n",
       "      <td>NaN</td>\n",
       "      <td>NaN</td>\n",
       "      <td>NaN</td>\n",
       "    </tr>\n",
       "    <tr>\n",
       "      <th>-318sKiQDgbjLzF4FCU1XA</th>\n",
       "      <td>NaN</td>\n",
       "      <td>NaN</td>\n",
       "      <td>NaN</td>\n",
       "      <td>NaN</td>\n",
       "      <td>NaN</td>\n",
       "      <td>NaN</td>\n",
       "      <td>NaN</td>\n",
       "      <td>NaN</td>\n",
       "      <td>NaN</td>\n",
       "      <td>NaN</td>\n",
       "      <td>...</td>\n",
       "      <td>NaN</td>\n",
       "      <td>NaN</td>\n",
       "      <td>NaN</td>\n",
       "      <td>NaN</td>\n",
       "      <td>NaN</td>\n",
       "      <td>NaN</td>\n",
       "      <td>NaN</td>\n",
       "      <td>NaN</td>\n",
       "      <td>NaN</td>\n",
       "      <td>NaN</td>\n",
       "    </tr>\n",
       "    <tr>\n",
       "      <th>-3UR6uwjT2kRjbQv1cxgxA</th>\n",
       "      <td>NaN</td>\n",
       "      <td>NaN</td>\n",
       "      <td>NaN</td>\n",
       "      <td>NaN</td>\n",
       "      <td>NaN</td>\n",
       "      <td>NaN</td>\n",
       "      <td>NaN</td>\n",
       "      <td>NaN</td>\n",
       "      <td>NaN</td>\n",
       "      <td>NaN</td>\n",
       "      <td>...</td>\n",
       "      <td>NaN</td>\n",
       "      <td>NaN</td>\n",
       "      <td>NaN</td>\n",
       "      <td>NaN</td>\n",
       "      <td>NaN</td>\n",
       "      <td>NaN</td>\n",
       "      <td>NaN</td>\n",
       "      <td>NaN</td>\n",
       "      <td>NaN</td>\n",
       "      <td>NaN</td>\n",
       "    </tr>\n",
       "    <tr>\n",
       "      <th>-5IhsZXkCka8u8LVksXKLw</th>\n",
       "      <td>NaN</td>\n",
       "      <td>NaN</td>\n",
       "      <td>NaN</td>\n",
       "      <td>NaN</td>\n",
       "      <td>NaN</td>\n",
       "      <td>NaN</td>\n",
       "      <td>NaN</td>\n",
       "      <td>NaN</td>\n",
       "      <td>NaN</td>\n",
       "      <td>NaN</td>\n",
       "      <td>...</td>\n",
       "      <td>NaN</td>\n",
       "      <td>NaN</td>\n",
       "      <td>NaN</td>\n",
       "      <td>NaN</td>\n",
       "      <td>NaN</td>\n",
       "      <td>NaN</td>\n",
       "      <td>NaN</td>\n",
       "      <td>NaN</td>\n",
       "      <td>NaN</td>\n",
       "      <td>NaN</td>\n",
       "    </tr>\n",
       "  </tbody>\n",
       "</table>\n",
       "<p>5 rows × 127 columns</p>\n",
       "</div>"
      ],
      "text/plain": [
       "business_id             #NAME?  -4TMQnQJW1yd6NqGRDvAeA  \\\n",
       "user_id                                                  \n",
       "#NAME?                     5.0                     NaN   \n",
       "-0g4b9oK3iptky6YY3vDyQ     NaN                     NaN   \n",
       "-318sKiQDgbjLzF4FCU1XA     NaN                     NaN   \n",
       "-3UR6uwjT2kRjbQv1cxgxA     NaN                     NaN   \n",
       "-5IhsZXkCka8u8LVksXKLw     NaN                     NaN   \n",
       "\n",
       "business_id             0PMKMyfX1j7Nc4esk1RaMg  0xyqLvtr0Zbr4G-gML-QmQ  \\\n",
       "user_id                                                                  \n",
       "#NAME?                                     NaN                     NaN   \n",
       "-0g4b9oK3iptky6YY3vDyQ                     NaN                     NaN   \n",
       "-318sKiQDgbjLzF4FCU1XA                     NaN                     NaN   \n",
       "-3UR6uwjT2kRjbQv1cxgxA                     NaN                     NaN   \n",
       "-5IhsZXkCka8u8LVksXKLw                     NaN                     NaN   \n",
       "\n",
       "business_id             1HD5iUUfVJDbfEBIn9yVhw  1QJFpZxLbHbXSKohWp9uIA  \\\n",
       "user_id                                                                  \n",
       "#NAME?                                     NaN                     NaN   \n",
       "-0g4b9oK3iptky6YY3vDyQ                     NaN                     NaN   \n",
       "-318sKiQDgbjLzF4FCU1XA                     NaN                     NaN   \n",
       "-3UR6uwjT2kRjbQv1cxgxA                     NaN                     NaN   \n",
       "-5IhsZXkCka8u8LVksXKLw                     NaN                     NaN   \n",
       "\n",
       "business_id             1qwkbN3wu3AGDxMTXVz2gA  24Td_CQH1bonWKff1rt2vg  \\\n",
       "user_id                                                                  \n",
       "#NAME?                                     NaN                     NaN   \n",
       "-0g4b9oK3iptky6YY3vDyQ                     NaN                     NaN   \n",
       "-318sKiQDgbjLzF4FCU1XA                     NaN                     NaN   \n",
       "-3UR6uwjT2kRjbQv1cxgxA                     NaN                     NaN   \n",
       "-5IhsZXkCka8u8LVksXKLw                     NaN                     NaN   \n",
       "\n",
       "business_id             2DUdvdQE8FOxCHHp59HHzw  2FfZUyA82YhQCjWNiqDCzQ  ...  \\\n",
       "user_id                                                                 ...   \n",
       "#NAME?                                     NaN                     NaN  ...   \n",
       "-0g4b9oK3iptky6YY3vDyQ                     NaN                     NaN  ...   \n",
       "-318sKiQDgbjLzF4FCU1XA                     NaN                     NaN  ...   \n",
       "-3UR6uwjT2kRjbQv1cxgxA                     NaN                     NaN  ...   \n",
       "-5IhsZXkCka8u8LVksXKLw                     NaN                     NaN  ...   \n",
       "\n",
       "business_id             vyDW7_CHhDUJshMqaSjj0g  wHq1efQVz17338k_aUOX3w  \\\n",
       "user_id                                                                  \n",
       "#NAME?                                     NaN                     NaN   \n",
       "-0g4b9oK3iptky6YY3vDyQ                     NaN                     NaN   \n",
       "-318sKiQDgbjLzF4FCU1XA                     NaN                     NaN   \n",
       "-3UR6uwjT2kRjbQv1cxgxA                     NaN                     NaN   \n",
       "-5IhsZXkCka8u8LVksXKLw                     NaN                     NaN   \n",
       "\n",
       "business_id             wJY74R0zAgjxvBf-d4gm9g  wMN68wTTlu8hADAF3FkKTw  \\\n",
       "user_id                                                                  \n",
       "#NAME?                                     NaN                     NaN   \n",
       "-0g4b9oK3iptky6YY3vDyQ                     NaN                     NaN   \n",
       "-318sKiQDgbjLzF4FCU1XA                     NaN                     NaN   \n",
       "-3UR6uwjT2kRjbQv1cxgxA                     NaN                     NaN   \n",
       "-5IhsZXkCka8u8LVksXKLw                     NaN                     NaN   \n",
       "\n",
       "business_id             wUKzaS1MHg94RGM6z8u9mw  wopyolJM2hOAt3dPRmahNA  \\\n",
       "user_id                                                                  \n",
       "#NAME?                                     NaN                     3.0   \n",
       "-0g4b9oK3iptky6YY3vDyQ                     NaN                     NaN   \n",
       "-318sKiQDgbjLzF4FCU1XA                     NaN                     NaN   \n",
       "-3UR6uwjT2kRjbQv1cxgxA                     NaN                     NaN   \n",
       "-5IhsZXkCka8u8LVksXKLw                     NaN                     NaN   \n",
       "\n",
       "business_id             xS5HGqgk0KY2jFWU-l_nrA  yAXWKWRTs4wNy-zrJgoeXQ  \\\n",
       "user_id                                                                  \n",
       "#NAME?                                     NaN                     NaN   \n",
       "-0g4b9oK3iptky6YY3vDyQ                     NaN                     NaN   \n",
       "-318sKiQDgbjLzF4FCU1XA                     NaN                     NaN   \n",
       "-3UR6uwjT2kRjbQv1cxgxA                     NaN                     NaN   \n",
       "-5IhsZXkCka8u8LVksXKLw                     NaN                     NaN   \n",
       "\n",
       "business_id             yNPh5SO-7wr8HPpVCDPbXQ  zidkKI_N1OPxsiddTOQH_Q  \n",
       "user_id                                                                 \n",
       "#NAME?                                     5.0                     4.0  \n",
       "-0g4b9oK3iptky6YY3vDyQ                     NaN                     NaN  \n",
       "-318sKiQDgbjLzF4FCU1XA                     NaN                     NaN  \n",
       "-3UR6uwjT2kRjbQv1cxgxA                     NaN                     NaN  \n",
       "-5IhsZXkCka8u8LVksXKLw                     NaN                     NaN  \n",
       "\n",
       "[5 rows x 127 columns]"
      ]
     },
     "execution_count": 79,
     "metadata": {},
     "output_type": "execute_result"
    }
   ],
   "source": [
    "userid_rating_matrix.head()"
   ]
  },
  {
   "cell_type": "code",
   "execution_count": 80,
   "metadata": {
    "ExecuteTime": {
     "end_time": "2019-11-19T14:51:49.080978Z",
     "start_time": "2019-11-19T14:51:48.845191Z"
    }
   },
   "outputs": [],
   "source": [
    "P = pd.DataFrame(userid_vectors.toarray(), index=userid_df.index, columns=userid_vectorizer.get_feature_names())\n",
    "Q = pd.DataFrame(businessid_vectors.toarray(), index=business_df.index, columns=businessid_vectorizer.get_feature_names())"
   ]
  },
  {
   "cell_type": "code",
   "execution_count": 81,
   "metadata": {
    "ExecuteTime": {
     "end_time": "2019-11-19T14:51:49.568904Z",
     "start_time": "2019-11-19T14:51:49.522900Z"
    }
   },
   "outputs": [
    {
     "data": {
      "text/html": [
       "<div>\n",
       "<style scoped>\n",
       "    .dataframe tbody tr th:only-of-type {\n",
       "        vertical-align: middle;\n",
       "    }\n",
       "\n",
       "    .dataframe tbody tr th {\n",
       "        vertical-align: top;\n",
       "    }\n",
       "\n",
       "    .dataframe thead th {\n",
       "        text-align: right;\n",
       "    }\n",
       "</style>\n",
       "<table border=\"1\" class=\"dataframe\">\n",
       "  <thead>\n",
       "    <tr style=\"text-align: right;\">\n",
       "      <th></th>\n",
       "      <th>1</th>\n",
       "      <th>10</th>\n",
       "      <th>100</th>\n",
       "      <th>1000</th>\n",
       "      <th>1040</th>\n",
       "      <th>11</th>\n",
       "      <th>1100</th>\n",
       "      <th>1145</th>\n",
       "      <th>11am</th>\n",
       "      <th>11pm</th>\n",
       "      <th>...</th>\n",
       "      <th>yuck</th>\n",
       "      <th>yum</th>\n",
       "      <th>yumm</th>\n",
       "      <th>yummy</th>\n",
       "      <th>yup</th>\n",
       "      <th>zero</th>\n",
       "      <th>zest</th>\n",
       "      <th>ziti</th>\n",
       "      <th>zucchini</th>\n",
       "      <th>​</th>\n",
       "    </tr>\n",
       "    <tr>\n",
       "      <th>business_id</th>\n",
       "      <th></th>\n",
       "      <th></th>\n",
       "      <th></th>\n",
       "      <th></th>\n",
       "      <th></th>\n",
       "      <th></th>\n",
       "      <th></th>\n",
       "      <th></th>\n",
       "      <th></th>\n",
       "      <th></th>\n",
       "      <th></th>\n",
       "      <th></th>\n",
       "      <th></th>\n",
       "      <th></th>\n",
       "      <th></th>\n",
       "      <th></th>\n",
       "      <th></th>\n",
       "      <th></th>\n",
       "      <th></th>\n",
       "      <th></th>\n",
       "      <th></th>\n",
       "    </tr>\n",
       "  </thead>\n",
       "  <tbody>\n",
       "    <tr>\n",
       "      <th>#NAME?</th>\n",
       "      <td>0.024667</td>\n",
       "      <td>0.02233</td>\n",
       "      <td>0.000000</td>\n",
       "      <td>0.0</td>\n",
       "      <td>0.0</td>\n",
       "      <td>0.00000</td>\n",
       "      <td>0.0</td>\n",
       "      <td>0.0</td>\n",
       "      <td>0.000000</td>\n",
       "      <td>0.0</td>\n",
       "      <td>...</td>\n",
       "      <td>0.0</td>\n",
       "      <td>0.0</td>\n",
       "      <td>0.000000</td>\n",
       "      <td>0.007815</td>\n",
       "      <td>0.0</td>\n",
       "      <td>0.0</td>\n",
       "      <td>0.00000</td>\n",
       "      <td>0.0</td>\n",
       "      <td>0.0</td>\n",
       "      <td>0.0</td>\n",
       "    </tr>\n",
       "    <tr>\n",
       "      <th>-4TMQnQJW1yd6NqGRDvAeA</th>\n",
       "      <td>0.000000</td>\n",
       "      <td>0.00000</td>\n",
       "      <td>0.000000</td>\n",
       "      <td>0.0</td>\n",
       "      <td>0.0</td>\n",
       "      <td>0.00000</td>\n",
       "      <td>0.0</td>\n",
       "      <td>0.0</td>\n",
       "      <td>0.000000</td>\n",
       "      <td>0.0</td>\n",
       "      <td>...</td>\n",
       "      <td>0.0</td>\n",
       "      <td>0.0</td>\n",
       "      <td>0.221101</td>\n",
       "      <td>0.026616</td>\n",
       "      <td>0.0</td>\n",
       "      <td>0.0</td>\n",
       "      <td>0.00000</td>\n",
       "      <td>0.0</td>\n",
       "      <td>0.0</td>\n",
       "      <td>0.0</td>\n",
       "    </tr>\n",
       "    <tr>\n",
       "      <th>0PMKMyfX1j7Nc4esk1RaMg</th>\n",
       "      <td>0.000000</td>\n",
       "      <td>0.00000</td>\n",
       "      <td>0.000000</td>\n",
       "      <td>0.0</td>\n",
       "      <td>0.0</td>\n",
       "      <td>0.00000</td>\n",
       "      <td>0.0</td>\n",
       "      <td>0.0</td>\n",
       "      <td>0.062626</td>\n",
       "      <td>0.0</td>\n",
       "      <td>...</td>\n",
       "      <td>0.0</td>\n",
       "      <td>0.0</td>\n",
       "      <td>0.000000</td>\n",
       "      <td>0.027501</td>\n",
       "      <td>0.0</td>\n",
       "      <td>0.0</td>\n",
       "      <td>0.06592</td>\n",
       "      <td>0.0</td>\n",
       "      <td>0.0</td>\n",
       "      <td>0.0</td>\n",
       "    </tr>\n",
       "    <tr>\n",
       "      <th>0xyqLvtr0Zbr4G-gML-QmQ</th>\n",
       "      <td>0.041224</td>\n",
       "      <td>0.00000</td>\n",
       "      <td>0.018459</td>\n",
       "      <td>0.0</td>\n",
       "      <td>0.0</td>\n",
       "      <td>0.02204</td>\n",
       "      <td>0.0</td>\n",
       "      <td>0.0</td>\n",
       "      <td>0.000000</td>\n",
       "      <td>0.0</td>\n",
       "      <td>...</td>\n",
       "      <td>0.0</td>\n",
       "      <td>0.0</td>\n",
       "      <td>0.000000</td>\n",
       "      <td>0.000000</td>\n",
       "      <td>0.0</td>\n",
       "      <td>0.0</td>\n",
       "      <td>0.00000</td>\n",
       "      <td>0.0</td>\n",
       "      <td>0.0</td>\n",
       "      <td>0.0</td>\n",
       "    </tr>\n",
       "    <tr>\n",
       "      <th>1HD5iUUfVJDbfEBIn9yVhw</th>\n",
       "      <td>0.000000</td>\n",
       "      <td>0.00000</td>\n",
       "      <td>0.000000</td>\n",
       "      <td>0.0</td>\n",
       "      <td>0.0</td>\n",
       "      <td>0.00000</td>\n",
       "      <td>0.0</td>\n",
       "      <td>0.0</td>\n",
       "      <td>0.000000</td>\n",
       "      <td>0.0</td>\n",
       "      <td>...</td>\n",
       "      <td>0.0</td>\n",
       "      <td>0.0</td>\n",
       "      <td>0.000000</td>\n",
       "      <td>0.000000</td>\n",
       "      <td>0.0</td>\n",
       "      <td>0.0</td>\n",
       "      <td>0.00000</td>\n",
       "      <td>0.0</td>\n",
       "      <td>0.0</td>\n",
       "      <td>0.0</td>\n",
       "    </tr>\n",
       "  </tbody>\n",
       "</table>\n",
       "<p>5 rows × 5000 columns</p>\n",
       "</div>"
      ],
      "text/plain": [
       "                               1       10       100  1000  1040       11  \\\n",
       "business_id                                                                \n",
       "#NAME?                  0.024667  0.02233  0.000000   0.0   0.0  0.00000   \n",
       "-4TMQnQJW1yd6NqGRDvAeA  0.000000  0.00000  0.000000   0.0   0.0  0.00000   \n",
       "0PMKMyfX1j7Nc4esk1RaMg  0.000000  0.00000  0.000000   0.0   0.0  0.00000   \n",
       "0xyqLvtr0Zbr4G-gML-QmQ  0.041224  0.00000  0.018459   0.0   0.0  0.02204   \n",
       "1HD5iUUfVJDbfEBIn9yVhw  0.000000  0.00000  0.000000   0.0   0.0  0.00000   \n",
       "\n",
       "                        1100  1145      11am  11pm  ...  yuck  yum      yumm  \\\n",
       "business_id                                         ...                        \n",
       "#NAME?                   0.0   0.0  0.000000   0.0  ...   0.0  0.0  0.000000   \n",
       "-4TMQnQJW1yd6NqGRDvAeA   0.0   0.0  0.000000   0.0  ...   0.0  0.0  0.221101   \n",
       "0PMKMyfX1j7Nc4esk1RaMg   0.0   0.0  0.062626   0.0  ...   0.0  0.0  0.000000   \n",
       "0xyqLvtr0Zbr4G-gML-QmQ   0.0   0.0  0.000000   0.0  ...   0.0  0.0  0.000000   \n",
       "1HD5iUUfVJDbfEBIn9yVhw   0.0   0.0  0.000000   0.0  ...   0.0  0.0  0.000000   \n",
       "\n",
       "                           yummy  yup  zero     zest  ziti  zucchini    ​  \n",
       "business_id                                                                \n",
       "#NAME?                  0.007815  0.0   0.0  0.00000   0.0       0.0  0.0  \n",
       "-4TMQnQJW1yd6NqGRDvAeA  0.026616  0.0   0.0  0.00000   0.0       0.0  0.0  \n",
       "0PMKMyfX1j7Nc4esk1RaMg  0.027501  0.0   0.0  0.06592   0.0       0.0  0.0  \n",
       "0xyqLvtr0Zbr4G-gML-QmQ  0.000000  0.0   0.0  0.00000   0.0       0.0  0.0  \n",
       "1HD5iUUfVJDbfEBIn9yVhw  0.000000  0.0   0.0  0.00000   0.0       0.0  0.0  \n",
       "\n",
       "[5 rows x 5000 columns]"
      ]
     },
     "execution_count": 81,
     "metadata": {},
     "output_type": "execute_result"
    }
   ],
   "source": [
    "Q.head()"
   ]
  },
  {
   "cell_type": "markdown",
   "metadata": {},
   "source": [
    "## Gradient Decent Optimization"
   ]
  },
  {
   "cell_type": "code",
   "execution_count": 82,
   "metadata": {
    "ExecuteTime": {
     "end_time": "2019-11-19T14:51:59.982023Z",
     "start_time": "2019-11-19T14:51:59.969011Z"
    }
   },
   "outputs": [],
   "source": [
    "def matrix_factorization(R, P, Q, steps=25, gamma=0.001,lamda=0.02):\n",
    "    for step in range(steps):\n",
    "        for i in R.index:\n",
    "            for j in R.columns:\n",
    "                if R.loc[i,j]>0:\n",
    "                    eij=R.loc[i,j]-np.dot(P.loc[i],Q.loc[j])\n",
    "                    P.loc[i]=P.loc[i]+gamma*(eij*Q.loc[j]-lamda*P.loc[i])\n",
    "                    Q.loc[j]=Q.loc[j]+gamma*(eij*P.loc[i]-lamda*Q.loc[j])\n",
    "        e=0\n",
    "        for i in R.index:\n",
    "            for j in R.columns:\n",
    "                if R.loc[i,j]>0:\n",
    "                    e= e + pow(R.loc[i,j]-np.dot(P.loc[i],Q.loc[j]),2)+lamda*(pow(np.linalg.norm(P.loc[i]),2)+pow(np.linalg.norm(Q.loc[j]),2))\n",
    "        if e<0.001:\n",
    "            break\n",
    "        \n",
    "    return P,Q"
   ]
  },
  {
   "cell_type": "code",
   "execution_count": 83,
   "metadata": {
    "ExecuteTime": {
     "end_time": "2019-11-19T19:27:19.299278Z",
     "start_time": "2019-11-19T14:52:57.165205Z"
    }
   },
   "outputs": [
    {
     "name": "stdout",
     "output_type": "stream",
     "text": [
      "Wall time: 16min 30s\n"
     ]
    }
   ],
   "source": [
    "%%time\n",
    "P, Q = matrix_factorization(userid_rating_matrix, P, Q, steps=25, gamma=0.001,lamda=0.02)"
   ]
  },
  {
   "cell_type": "code",
   "execution_count": 84,
   "metadata": {
    "ExecuteTime": {
     "end_time": "2019-11-20T02:47:57.287588Z",
     "start_time": "2019-11-20T02:47:57.260584Z"
    }
   },
   "outputs": [
    {
     "data": {
      "text/html": [
       "<div>\n",
       "<style scoped>\n",
       "    .dataframe tbody tr th:only-of-type {\n",
       "        vertical-align: middle;\n",
       "    }\n",
       "\n",
       "    .dataframe tbody tr th {\n",
       "        vertical-align: top;\n",
       "    }\n",
       "\n",
       "    .dataframe thead th {\n",
       "        text-align: right;\n",
       "    }\n",
       "</style>\n",
       "<table border=\"1\" class=\"dataframe\">\n",
       "  <thead>\n",
       "    <tr style=\"text-align: right;\">\n",
       "      <th></th>\n",
       "      <th>1</th>\n",
       "      <th>10</th>\n",
       "      <th>100</th>\n",
       "      <th>1000</th>\n",
       "      <th>1040</th>\n",
       "      <th>11</th>\n",
       "      <th>1100</th>\n",
       "      <th>1145</th>\n",
       "      <th>11am</th>\n",
       "      <th>11pm</th>\n",
       "      <th>...</th>\n",
       "      <th>yuck</th>\n",
       "      <th>yum</th>\n",
       "      <th>yumm</th>\n",
       "      <th>yummy</th>\n",
       "      <th>yup</th>\n",
       "      <th>zero</th>\n",
       "      <th>zest</th>\n",
       "      <th>ziti</th>\n",
       "      <th>zucchini</th>\n",
       "      <th>​</th>\n",
       "    </tr>\n",
       "    <tr>\n",
       "      <th>business_id</th>\n",
       "      <th></th>\n",
       "      <th></th>\n",
       "      <th></th>\n",
       "      <th></th>\n",
       "      <th></th>\n",
       "      <th></th>\n",
       "      <th></th>\n",
       "      <th></th>\n",
       "      <th></th>\n",
       "      <th></th>\n",
       "      <th></th>\n",
       "      <th></th>\n",
       "      <th></th>\n",
       "      <th></th>\n",
       "      <th></th>\n",
       "      <th></th>\n",
       "      <th></th>\n",
       "      <th></th>\n",
       "      <th></th>\n",
       "      <th></th>\n",
       "      <th></th>\n",
       "    </tr>\n",
       "  </thead>\n",
       "  <tbody>\n",
       "    <tr>\n",
       "      <th>#NAME?</th>\n",
       "      <td>0.041567</td>\n",
       "      <td>3.875387e-02</td>\n",
       "      <td>0.000798</td>\n",
       "      <td>2.605139e-03</td>\n",
       "      <td>1.318713e-04</td>\n",
       "      <td>0.000278</td>\n",
       "      <td>8.977194e-05</td>\n",
       "      <td>6.745825e-08</td>\n",
       "      <td>1.241007e-04</td>\n",
       "      <td>2.309292e-04</td>\n",
       "      <td>...</td>\n",
       "      <td>2.432348e-04</td>\n",
       "      <td>1.078716e-03</td>\n",
       "      <td>3.221997e-07</td>\n",
       "      <td>0.019932</td>\n",
       "      <td>2.637736e-03</td>\n",
       "      <td>9.031124e-05</td>\n",
       "      <td>2.627112e-07</td>\n",
       "      <td>3.605203e-04</td>\n",
       "      <td>3.657843e-04</td>\n",
       "      <td>2.410264e-04</td>\n",
       "    </tr>\n",
       "    <tr>\n",
       "      <th>-4TMQnQJW1yd6NqGRDvAeA</th>\n",
       "      <td>0.000267</td>\n",
       "      <td>1.090142e-04</td>\n",
       "      <td>0.000362</td>\n",
       "      <td>1.670624e-04</td>\n",
       "      <td>1.835763e-04</td>\n",
       "      <td>0.000290</td>\n",
       "      <td>1.295136e-04</td>\n",
       "      <td>1.042085e-04</td>\n",
       "      <td>4.376731e-05</td>\n",
       "      <td>1.226278e-07</td>\n",
       "      <td>...</td>\n",
       "      <td>1.113960e-08</td>\n",
       "      <td>1.813452e-04</td>\n",
       "      <td>2.731926e-01</td>\n",
       "      <td>0.046231</td>\n",
       "      <td>3.613854e-07</td>\n",
       "      <td>8.150453e-08</td>\n",
       "      <td>1.264820e-04</td>\n",
       "      <td>2.178273e-07</td>\n",
       "      <td>9.948038e-05</td>\n",
       "      <td>1.491281e-07</td>\n",
       "    </tr>\n",
       "    <tr>\n",
       "      <th>0PMKMyfX1j7Nc4esk1RaMg</th>\n",
       "      <td>0.000053</td>\n",
       "      <td>5.744148e-05</td>\n",
       "      <td>0.000021</td>\n",
       "      <td>1.657296e-06</td>\n",
       "      <td>5.038737e-08</td>\n",
       "      <td>0.000023</td>\n",
       "      <td>3.271448e-08</td>\n",
       "      <td>2.105634e-11</td>\n",
       "      <td>7.187814e-02</td>\n",
       "      <td>1.834981e-08</td>\n",
       "      <td>...</td>\n",
       "      <td>3.358279e-08</td>\n",
       "      <td>7.098396e-05</td>\n",
       "      <td>6.298036e-11</td>\n",
       "      <td>0.038894</td>\n",
       "      <td>8.985855e-08</td>\n",
       "      <td>4.568490e-05</td>\n",
       "      <td>7.550750e-02</td>\n",
       "      <td>1.530012e-07</td>\n",
       "      <td>2.600018e-06</td>\n",
       "      <td>9.279661e-08</td>\n",
       "    </tr>\n",
       "    <tr>\n",
       "      <th>0xyqLvtr0Zbr4G-gML-QmQ</th>\n",
       "      <td>0.064738</td>\n",
       "      <td>2.965932e-08</td>\n",
       "      <td>0.030042</td>\n",
       "      <td>1.283157e-07</td>\n",
       "      <td>1.238321e-18</td>\n",
       "      <td>0.024598</td>\n",
       "      <td>7.627748e-19</td>\n",
       "      <td>1.104016e-11</td>\n",
       "      <td>8.861716e-19</td>\n",
       "      <td>3.586637e-15</td>\n",
       "      <td>...</td>\n",
       "      <td>6.867953e-19</td>\n",
       "      <td>4.788361e-08</td>\n",
       "      <td>3.997368e-14</td>\n",
       "      <td>0.000130</td>\n",
       "      <td>1.484864e-18</td>\n",
       "      <td>2.282552e-18</td>\n",
       "      <td>1.178414e-11</td>\n",
       "      <td>8.064341e-16</td>\n",
       "      <td>9.466624e-12</td>\n",
       "      <td>1.102907e-18</td>\n",
       "    </tr>\n",
       "    <tr>\n",
       "      <th>1HD5iUUfVJDbfEBIn9yVhw</th>\n",
       "      <td>0.009289</td>\n",
       "      <td>8.321166e-04</td>\n",
       "      <td>0.000218</td>\n",
       "      <td>1.543529e-04</td>\n",
       "      <td>2.010739e-04</td>\n",
       "      <td>0.000164</td>\n",
       "      <td>1.401083e-04</td>\n",
       "      <td>3.516736e-08</td>\n",
       "      <td>4.822517e-05</td>\n",
       "      <td>9.740952e-08</td>\n",
       "      <td>...</td>\n",
       "      <td>2.170936e-08</td>\n",
       "      <td>2.925104e-04</td>\n",
       "      <td>6.051355e-07</td>\n",
       "      <td>0.013073</td>\n",
       "      <td>7.475214e-07</td>\n",
       "      <td>3.511341e-07</td>\n",
       "      <td>3.895407e-08</td>\n",
       "      <td>8.910928e-07</td>\n",
       "      <td>4.827897e-05</td>\n",
       "      <td>6.609925e-07</td>\n",
       "    </tr>\n",
       "  </tbody>\n",
       "</table>\n",
       "<p>5 rows × 5000 columns</p>\n",
       "</div>"
      ],
      "text/plain": [
       "                               1            10       100          1000  \\\n",
       "business_id                                                              \n",
       "#NAME?                  0.041567  3.875387e-02  0.000798  2.605139e-03   \n",
       "-4TMQnQJW1yd6NqGRDvAeA  0.000267  1.090142e-04  0.000362  1.670624e-04   \n",
       "0PMKMyfX1j7Nc4esk1RaMg  0.000053  5.744148e-05  0.000021  1.657296e-06   \n",
       "0xyqLvtr0Zbr4G-gML-QmQ  0.064738  2.965932e-08  0.030042  1.283157e-07   \n",
       "1HD5iUUfVJDbfEBIn9yVhw  0.009289  8.321166e-04  0.000218  1.543529e-04   \n",
       "\n",
       "                                1040        11          1100          1145  \\\n",
       "business_id                                                                  \n",
       "#NAME?                  1.318713e-04  0.000278  8.977194e-05  6.745825e-08   \n",
       "-4TMQnQJW1yd6NqGRDvAeA  1.835763e-04  0.000290  1.295136e-04  1.042085e-04   \n",
       "0PMKMyfX1j7Nc4esk1RaMg  5.038737e-08  0.000023  3.271448e-08  2.105634e-11   \n",
       "0xyqLvtr0Zbr4G-gML-QmQ  1.238321e-18  0.024598  7.627748e-19  1.104016e-11   \n",
       "1HD5iUUfVJDbfEBIn9yVhw  2.010739e-04  0.000164  1.401083e-04  3.516736e-08   \n",
       "\n",
       "                                11am          11pm  ...          yuck  \\\n",
       "business_id                                         ...                 \n",
       "#NAME?                  1.241007e-04  2.309292e-04  ...  2.432348e-04   \n",
       "-4TMQnQJW1yd6NqGRDvAeA  4.376731e-05  1.226278e-07  ...  1.113960e-08   \n",
       "0PMKMyfX1j7Nc4esk1RaMg  7.187814e-02  1.834981e-08  ...  3.358279e-08   \n",
       "0xyqLvtr0Zbr4G-gML-QmQ  8.861716e-19  3.586637e-15  ...  6.867953e-19   \n",
       "1HD5iUUfVJDbfEBIn9yVhw  4.822517e-05  9.740952e-08  ...  2.170936e-08   \n",
       "\n",
       "                                 yum          yumm     yummy           yup  \\\n",
       "business_id                                                                  \n",
       "#NAME?                  1.078716e-03  3.221997e-07  0.019932  2.637736e-03   \n",
       "-4TMQnQJW1yd6NqGRDvAeA  1.813452e-04  2.731926e-01  0.046231  3.613854e-07   \n",
       "0PMKMyfX1j7Nc4esk1RaMg  7.098396e-05  6.298036e-11  0.038894  8.985855e-08   \n",
       "0xyqLvtr0Zbr4G-gML-QmQ  4.788361e-08  3.997368e-14  0.000130  1.484864e-18   \n",
       "1HD5iUUfVJDbfEBIn9yVhw  2.925104e-04  6.051355e-07  0.013073  7.475214e-07   \n",
       "\n",
       "                                zero          zest          ziti  \\\n",
       "business_id                                                        \n",
       "#NAME?                  9.031124e-05  2.627112e-07  3.605203e-04   \n",
       "-4TMQnQJW1yd6NqGRDvAeA  8.150453e-08  1.264820e-04  2.178273e-07   \n",
       "0PMKMyfX1j7Nc4esk1RaMg  4.568490e-05  7.550750e-02  1.530012e-07   \n",
       "0xyqLvtr0Zbr4G-gML-QmQ  2.282552e-18  1.178414e-11  8.064341e-16   \n",
       "1HD5iUUfVJDbfEBIn9yVhw  3.511341e-07  3.895407e-08  8.910928e-07   \n",
       "\n",
       "                            zucchini             ​  \n",
       "business_id                                         \n",
       "#NAME?                  3.657843e-04  2.410264e-04  \n",
       "-4TMQnQJW1yd6NqGRDvAeA  9.948038e-05  1.491281e-07  \n",
       "0PMKMyfX1j7Nc4esk1RaMg  2.600018e-06  9.279661e-08  \n",
       "0xyqLvtr0Zbr4G-gML-QmQ  9.466624e-12  1.102907e-18  \n",
       "1HD5iUUfVJDbfEBIn9yVhw  4.827897e-05  6.609925e-07  \n",
       "\n",
       "[5 rows x 5000 columns]"
      ]
     },
     "execution_count": 84,
     "metadata": {},
     "output_type": "execute_result"
    }
   ],
   "source": [
    "Q.head()"
   ]
  },
  {
   "cell_type": "code",
   "execution_count": 98,
   "metadata": {
    "ExecuteTime": {
     "end_time": "2019-11-20T02:49:51.226760Z",
     "start_time": "2019-11-20T02:49:51.217750Z"
    }
   },
   "outputs": [
    {
     "data": {
      "text/plain": [
       "breakfast    0.528137\n",
       "pancakes     0.413557\n",
       "place        0.386709\n",
       "food         0.351115\n",
       "good         0.330801\n",
       "great        0.267813\n",
       "eggs         0.224874\n",
       "like         0.210402\n",
       "juice        0.203892\n",
       "service      0.203596\n",
       "Name: #NAME?, dtype: float64"
      ]
     },
     "execution_count": 98,
     "metadata": {},
     "output_type": "execute_result"
    }
   ],
   "source": [
    "Q.iloc[0].sort_values(ascending=False).head(10)"
   ]
  },
  {
   "cell_type": "markdown",
   "metadata": {},
   "source": [
    "### Export Model"
   ]
  },
  {
   "cell_type": "code",
   "execution_count": 86,
   "metadata": {
    "ExecuteTime": {
     "end_time": "2019-11-19T19:27:21.143901Z",
     "start_time": "2019-11-19T19:27:19.301272Z"
    }
   },
   "outputs": [],
   "source": [
    "# Store P, Q and vectorizer in pickle file\n",
    "import pickle\n",
    "output = open('yelp_recommendation_model_final.pkl', 'wb')\n",
    "pickle.dump(P,output)\n",
    "pickle.dump(Q,output)\n",
    "pickle.dump(userid_vectorizer,output)\n",
    "output.close()"
   ]
  },
  {
   "cell_type": "markdown",
   "metadata": {},
   "source": [
    "## Prediction for input text"
   ]
  },
  {
   "cell_type": "code",
   "execution_count": 116,
   "metadata": {
    "ExecuteTime": {
     "end_time": "2019-11-20T00:51:31.953989Z",
     "start_time": "2019-11-20T00:51:31.499022Z"
    }
   },
   "outputs": [
    {
     "ename": "IndexError",
     "evalue": "single positional indexer is out-of-bounds",
     "output_type": "error",
     "traceback": [
      "\u001b[1;31m---------------------------------------------------------------------------\u001b[0m",
      "\u001b[1;31mIndexError\u001b[0m                                Traceback (most recent call last)",
      "\u001b[1;32m<ipython-input-116-94489ca772b8>\u001b[0m in \u001b[0;36m<module>\u001b[1;34m\u001b[0m\n\u001b[0;32m      8\u001b[0m \u001b[0mtopRecommendations\u001b[0m\u001b[1;33m=\u001b[0m\u001b[0mpd\u001b[0m\u001b[1;33m.\u001b[0m\u001b[0mDataFrame\u001b[0m\u001b[1;33m.\u001b[0m\u001b[0msort_values\u001b[0m\u001b[1;33m(\u001b[0m\u001b[0mpredictItemRating\u001b[0m\u001b[1;33m,\u001b[0m\u001b[1;33m[\u001b[0m\u001b[1;34m'Rating'\u001b[0m\u001b[1;33m]\u001b[0m\u001b[1;33m,\u001b[0m\u001b[0mascending\u001b[0m\u001b[1;33m=\u001b[0m\u001b[1;33m[\u001b[0m\u001b[1;36m0\u001b[0m\u001b[1;33m]\u001b[0m\u001b[1;33m)\u001b[0m\u001b[1;33m[\u001b[0m\u001b[1;33m:\u001b[0m\u001b[1;36m7\u001b[0m\u001b[1;33m]\u001b[0m\u001b[1;33m\u001b[0m\u001b[1;33m\u001b[0m\u001b[0m\n\u001b[0;32m      9\u001b[0m \u001b[1;33m\u001b[0m\u001b[0m\n\u001b[1;32m---> 10\u001b[1;33m \u001b[0mprint\u001b[0m\u001b[1;33m(\u001b[0m\u001b[0mdf_business\u001b[0m\u001b[1;33m[\u001b[0m\u001b[0mdf_business\u001b[0m\u001b[1;33m[\u001b[0m\u001b[1;34m'business_id'\u001b[0m\u001b[1;33m]\u001b[0m\u001b[1;33m==\u001b[0m\u001b[0mi\u001b[0m\u001b[1;33m]\u001b[0m\u001b[1;33m[\u001b[0m\u001b[1;34m'name'\u001b[0m\u001b[1;33m]\u001b[0m\u001b[1;33m.\u001b[0m\u001b[0miloc\u001b[0m\u001b[1;33m[\u001b[0m\u001b[1;36m0\u001b[0m\u001b[1;33m]\u001b[0m\u001b[1;33m)\u001b[0m\u001b[1;33m\u001b[0m\u001b[1;33m\u001b[0m\u001b[0m\n\u001b[0m\u001b[0;32m     11\u001b[0m \u001b[0mprint\u001b[0m\u001b[1;33m(\u001b[0m\u001b[0mdf_business\u001b[0m\u001b[1;33m[\u001b[0m\u001b[0mdf_business\u001b[0m\u001b[1;33m[\u001b[0m\u001b[1;34m'business_id'\u001b[0m\u001b[1;33m]\u001b[0m\u001b[1;33m==\u001b[0m\u001b[0mi\u001b[0m\u001b[1;33m]\u001b[0m\u001b[1;33m[\u001b[0m\u001b[1;34m'categories'\u001b[0m\u001b[1;33m]\u001b[0m\u001b[1;33m.\u001b[0m\u001b[0miloc\u001b[0m\u001b[1;33m[\u001b[0m\u001b[1;36m0\u001b[0m\u001b[1;33m]\u001b[0m\u001b[1;33m)\u001b[0m\u001b[1;33m\u001b[0m\u001b[1;33m\u001b[0m\u001b[0m\n\u001b[0;32m     12\u001b[0m \u001b[0mprint\u001b[0m\u001b[1;33m(\u001b[0m\u001b[0mstr\u001b[0m\u001b[1;33m(\u001b[0m\u001b[0mdf_business\u001b[0m\u001b[1;33m[\u001b[0m\u001b[0mdf_business\u001b[0m\u001b[1;33m[\u001b[0m\u001b[1;34m'business_id'\u001b[0m\u001b[1;33m]\u001b[0m\u001b[1;33m==\u001b[0m\u001b[0mi\u001b[0m\u001b[1;33m]\u001b[0m\u001b[1;33m[\u001b[0m\u001b[1;34m'stars'\u001b[0m\u001b[1;33m]\u001b[0m\u001b[1;33m.\u001b[0m\u001b[0miloc\u001b[0m\u001b[1;33m[\u001b[0m\u001b[1;36m0\u001b[0m\u001b[1;33m]\u001b[0m\u001b[1;33m)\u001b[0m\u001b[1;33m+\u001b[0m \u001b[1;34m' '\u001b[0m\u001b[1;33m+\u001b[0m\u001b[0mstr\u001b[0m\u001b[1;33m(\u001b[0m\u001b[0mdf_business\u001b[0m\u001b[1;33m[\u001b[0m\u001b[0mdf_business\u001b[0m\u001b[1;33m[\u001b[0m\u001b[1;34m'business_id'\u001b[0m\u001b[1;33m]\u001b[0m\u001b[1;33m==\u001b[0m\u001b[0mi\u001b[0m\u001b[1;33m]\u001b[0m\u001b[1;33m[\u001b[0m\u001b[1;34m'review_count'\u001b[0m\u001b[1;33m]\u001b[0m\u001b[1;33m.\u001b[0m\u001b[0miloc\u001b[0m\u001b[1;33m[\u001b[0m\u001b[1;36m0\u001b[0m\u001b[1;33m]\u001b[0m\u001b[1;33m)\u001b[0m\u001b[1;33m)\u001b[0m\u001b[1;33m\u001b[0m\u001b[1;33m\u001b[0m\u001b[0m\n",
      "\u001b[1;32m~\\anaconda3\\lib\\site-packages\\pandas\\core\\indexing.py\u001b[0m in \u001b[0;36m__getitem__\u001b[1;34m(self, key)\u001b[0m\n\u001b[0;32m   1765\u001b[0m \u001b[1;33m\u001b[0m\u001b[0m\n\u001b[0;32m   1766\u001b[0m             \u001b[0mmaybe_callable\u001b[0m \u001b[1;33m=\u001b[0m \u001b[0mcom\u001b[0m\u001b[1;33m.\u001b[0m\u001b[0mapply_if_callable\u001b[0m\u001b[1;33m(\u001b[0m\u001b[0mkey\u001b[0m\u001b[1;33m,\u001b[0m \u001b[0mself\u001b[0m\u001b[1;33m.\u001b[0m\u001b[0mobj\u001b[0m\u001b[1;33m)\u001b[0m\u001b[1;33m\u001b[0m\u001b[1;33m\u001b[0m\u001b[0m\n\u001b[1;32m-> 1767\u001b[1;33m             \u001b[1;32mreturn\u001b[0m \u001b[0mself\u001b[0m\u001b[1;33m.\u001b[0m\u001b[0m_getitem_axis\u001b[0m\u001b[1;33m(\u001b[0m\u001b[0mmaybe_callable\u001b[0m\u001b[1;33m,\u001b[0m \u001b[0maxis\u001b[0m\u001b[1;33m=\u001b[0m\u001b[0maxis\u001b[0m\u001b[1;33m)\u001b[0m\u001b[1;33m\u001b[0m\u001b[1;33m\u001b[0m\u001b[0m\n\u001b[0m\u001b[0;32m   1768\u001b[0m \u001b[1;33m\u001b[0m\u001b[0m\n\u001b[0;32m   1769\u001b[0m     \u001b[1;32mdef\u001b[0m \u001b[0m_is_scalar_access\u001b[0m\u001b[1;33m(\u001b[0m\u001b[0mself\u001b[0m\u001b[1;33m,\u001b[0m \u001b[0mkey\u001b[0m\u001b[1;33m:\u001b[0m \u001b[0mTuple\u001b[0m\u001b[1;33m)\u001b[0m\u001b[1;33m:\u001b[0m\u001b[1;33m\u001b[0m\u001b[1;33m\u001b[0m\u001b[0m\n",
      "\u001b[1;32m~\\anaconda3\\lib\\site-packages\\pandas\\core\\indexing.py\u001b[0m in \u001b[0;36m_getitem_axis\u001b[1;34m(self, key, axis)\u001b[0m\n\u001b[0;32m   2135\u001b[0m \u001b[1;33m\u001b[0m\u001b[0m\n\u001b[0;32m   2136\u001b[0m             \u001b[1;31m# validate the location\u001b[0m\u001b[1;33m\u001b[0m\u001b[1;33m\u001b[0m\u001b[1;33m\u001b[0m\u001b[0m\n\u001b[1;32m-> 2137\u001b[1;33m             \u001b[0mself\u001b[0m\u001b[1;33m.\u001b[0m\u001b[0m_validate_integer\u001b[0m\u001b[1;33m(\u001b[0m\u001b[0mkey\u001b[0m\u001b[1;33m,\u001b[0m \u001b[0maxis\u001b[0m\u001b[1;33m)\u001b[0m\u001b[1;33m\u001b[0m\u001b[1;33m\u001b[0m\u001b[0m\n\u001b[0m\u001b[0;32m   2138\u001b[0m \u001b[1;33m\u001b[0m\u001b[0m\n\u001b[0;32m   2139\u001b[0m             \u001b[1;32mreturn\u001b[0m \u001b[0mself\u001b[0m\u001b[1;33m.\u001b[0m\u001b[0m_get_loc\u001b[0m\u001b[1;33m(\u001b[0m\u001b[0mkey\u001b[0m\u001b[1;33m,\u001b[0m \u001b[0maxis\u001b[0m\u001b[1;33m=\u001b[0m\u001b[0maxis\u001b[0m\u001b[1;33m)\u001b[0m\u001b[1;33m\u001b[0m\u001b[1;33m\u001b[0m\u001b[0m\n",
      "\u001b[1;32m~\\anaconda3\\lib\\site-packages\\pandas\\core\\indexing.py\u001b[0m in \u001b[0;36m_validate_integer\u001b[1;34m(self, key, axis)\u001b[0m\n\u001b[0;32m   2060\u001b[0m         \u001b[0mlen_axis\u001b[0m \u001b[1;33m=\u001b[0m \u001b[0mlen\u001b[0m\u001b[1;33m(\u001b[0m\u001b[0mself\u001b[0m\u001b[1;33m.\u001b[0m\u001b[0mobj\u001b[0m\u001b[1;33m.\u001b[0m\u001b[0m_get_axis\u001b[0m\u001b[1;33m(\u001b[0m\u001b[0maxis\u001b[0m\u001b[1;33m)\u001b[0m\u001b[1;33m)\u001b[0m\u001b[1;33m\u001b[0m\u001b[1;33m\u001b[0m\u001b[0m\n\u001b[0;32m   2061\u001b[0m         \u001b[1;32mif\u001b[0m \u001b[0mkey\u001b[0m \u001b[1;33m>=\u001b[0m \u001b[0mlen_axis\u001b[0m \u001b[1;32mor\u001b[0m \u001b[0mkey\u001b[0m \u001b[1;33m<\u001b[0m \u001b[1;33m-\u001b[0m\u001b[0mlen_axis\u001b[0m\u001b[1;33m:\u001b[0m\u001b[1;33m\u001b[0m\u001b[1;33m\u001b[0m\u001b[0m\n\u001b[1;32m-> 2062\u001b[1;33m             \u001b[1;32mraise\u001b[0m \u001b[0mIndexError\u001b[0m\u001b[1;33m(\u001b[0m\u001b[1;34m\"single positional indexer is out-of-bounds\"\u001b[0m\u001b[1;33m)\u001b[0m\u001b[1;33m\u001b[0m\u001b[1;33m\u001b[0m\u001b[0m\n\u001b[0m\u001b[0;32m   2063\u001b[0m \u001b[1;33m\u001b[0m\u001b[0m\n\u001b[0;32m   2064\u001b[0m     \u001b[1;32mdef\u001b[0m \u001b[0m_getitem_tuple\u001b[0m\u001b[1;33m(\u001b[0m\u001b[0mself\u001b[0m\u001b[1;33m,\u001b[0m \u001b[0mtup\u001b[0m\u001b[1;33m:\u001b[0m \u001b[0mTuple\u001b[0m\u001b[1;33m)\u001b[0m\u001b[1;33m:\u001b[0m\u001b[1;33m\u001b[0m\u001b[1;33m\u001b[0m\u001b[0m\n",
      "\u001b[1;31mIndexError\u001b[0m: single positional indexer is out-of-bounds"
     ]
    }
   ],
   "source": [
    "words = \"\"\n",
    "test_df= pd.DataFrame([words], columns=['text'])\n",
    "test_df['text'] = test_df['text'].apply(text_process)\n",
    "test_vectors = userid_vectorizer.transform(test_df['text'])\n",
    "test_v_df = pd.DataFrame(test_vectors.toarray(), index=test_df.index, columns=userid_vectorizer.get_feature_names())\n",
    "\n",
    "predictItemRating=pd.DataFrame(np.dot(test_v_df.loc[0],Q.T),index=Q.index,columns=['Rating'])\n",
    "topRecommendations=pd.DataFrame.sort_values(predictItemRating,['Rating'],ascending=[0])[:7]\n",
    "\n",
    "for i in topRecommendations.index:\n",
    "    print(i)\n",
    "    print(df_business[df_business['business_id']==i]['name'].iloc[0])\n",
    "    print(df_business[df_business['business_id']==i]['categories'].iloc[0])\n",
    "    print(str(df_business[df_business['business_id']==i]['stars'].iloc[0])+ ' '+str(df_business[df_business['business_id']==i]['review_count'].iloc[0]))\n",
    "    print('')\n"
   ]
  },
  {
   "cell_type": "code",
   "execution_count": null,
   "metadata": {},
   "outputs": [],
   "source": []
  },
  {
   "cell_type": "code",
   "execution_count": null,
   "metadata": {},
   "outputs": [],
   "source": []
  }
 ],
 "metadata": {
  "kernelspec": {
   "display_name": "Python 3",
   "language": "python",
   "name": "python3"
  },
  "language_info": {
   "codemirror_mode": {
    "name": "ipython",
    "version": 3
   },
   "file_extension": ".py",
   "mimetype": "text/x-python",
   "name": "python",
   "nbconvert_exporter": "python",
   "pygments_lexer": "ipython3",
   "version": "3.7.6"
  }
 },
 "nbformat": 4,
 "nbformat_minor": 2
}
